{
 "cells": [
  {
   "cell_type": "code",
   "execution_count": 1,
   "id": "1aee464a",
   "metadata": {},
   "outputs": [],
   "source": [
    "import pandas as pd\n",
    "import numpy as np\n",
    "import os\n",
    "import warnings\n",
    "import re\n",
    "\n",
    "import matplotlib.pyplot as plt\n",
    "from PIL import Image, ImageOps\n",
    "warnings.filterwarnings(\"ignore\")"
   ]
  },
  {
   "cell_type": "markdown",
   "id": "6d189d96",
   "metadata": {},
   "source": [
    "# Create DataFrame"
   ]
  },
  {
   "cell_type": "code",
   "execution_count": 2,
   "id": "bd685d94",
   "metadata": {},
   "outputs": [
    {
     "name": "stdout",
     "output_type": "stream",
     "text": [
      "{(64, 64): 1653}\n"
     ]
    },
    {
     "data": {
      "text/html": [
       "<div>\n",
       "<style scoped>\n",
       "    .dataframe tbody tr th:only-of-type {\n",
       "        vertical-align: middle;\n",
       "    }\n",
       "\n",
       "    .dataframe tbody tr th {\n",
       "        vertical-align: top;\n",
       "    }\n",
       "\n",
       "    .dataframe thead th {\n",
       "        text-align: right;\n",
       "    }\n",
       "</style>\n",
       "<table border=\"1\" class=\"dataframe\">\n",
       "  <thead>\n",
       "    <tr style=\"text-align: right;\">\n",
       "      <th></th>\n",
       "      <th>filename</th>\n",
       "      <th>data</th>\n",
       "      <th>class</th>\n",
       "    </tr>\n",
       "  </thead>\n",
       "  <tbody>\n",
       "    <tr>\n",
       "      <th>0</th>\n",
       "      <td>DL_track_train/image1050_label45.png</td>\n",
       "      <td>[255, 255, 255, 255, 255, 255, 255, 255, 255, ...</td>\n",
       "      <td>45</td>\n",
       "    </tr>\n",
       "    <tr>\n",
       "      <th>1</th>\n",
       "      <td>DL_track_train/image1110_label43.png</td>\n",
       "      <td>[3, 4, 3, 3, 3, 3, 3, 3, 3, 2, 3, 3, 3, 2, 2, ...</td>\n",
       "      <td>43</td>\n",
       "    </tr>\n",
       "    <tr>\n",
       "      <th>2</th>\n",
       "      <td>DL_track_train/image229_label16.png</td>\n",
       "      <td>[40, 43, 49, 50, 54, 55, 61, 62, 67, 68, 72, 7...</td>\n",
       "      <td>16</td>\n",
       "    </tr>\n",
       "    <tr>\n",
       "      <th>3</th>\n",
       "      <td>DL_track_train/image933_label34.png</td>\n",
       "      <td>[220, 220, 220, 220, 220, 220, 220, 219, 219, ...</td>\n",
       "      <td>34</td>\n",
       "    </tr>\n",
       "    <tr>\n",
       "      <th>4</th>\n",
       "      <td>DL_track_train/image601_label8.png</td>\n",
       "      <td>[37, 36, 36, 37, 37, 34, 34, 33, 34, 33, 33, 3...</td>\n",
       "      <td>8</td>\n",
       "    </tr>\n",
       "  </tbody>\n",
       "</table>\n",
       "</div>"
      ],
      "text/plain": [
       "                               filename  \\\n",
       "0  DL_track_train/image1050_label45.png   \n",
       "1  DL_track_train/image1110_label43.png   \n",
       "2   DL_track_train/image229_label16.png   \n",
       "3   DL_track_train/image933_label34.png   \n",
       "4    DL_track_train/image601_label8.png   \n",
       "\n",
       "                                                data class  \n",
       "0  [255, 255, 255, 255, 255, 255, 255, 255, 255, ...    45  \n",
       "1  [3, 4, 3, 3, 3, 3, 3, 3, 3, 2, 3, 3, 3, 2, 2, ...    43  \n",
       "2  [40, 43, 49, 50, 54, 55, 61, 62, 67, 68, 72, 7...    16  \n",
       "3  [220, 220, 220, 220, 220, 220, 220, 219, 219, ...    34  \n",
       "4  [37, 36, 36, 37, 37, 34, 34, 33, 34, 33, 33, 3...     8  "
      ]
     },
     "execution_count": 2,
     "metadata": {},
     "output_type": "execute_result"
    }
   ],
   "source": [
    "directory = 'DL_track_train'\n",
    "\n",
    "df = pd.DataFrame(columns =['filename', 'data'])\n",
    "dimDict={} # check if all photos are of same shape\n",
    "\n",
    "for filename in os.listdir(directory):\n",
    "    f = str(os.path.join(directory, filename))\n",
    "    img = Image.open(f)\n",
    "    data = np.array(img)\n",
    "    if data.shape in dimDict:\n",
    "        dimDict[data.shape] += 1\n",
    "    else:\n",
    "        dimDict[data.shape] = 1\n",
    "    img.close()\n",
    "    insert_data = {'filename':f, 'data':data.flatten()}\n",
    "    df = df.append(insert_data, ignore_index=True)  \n",
    "        \n",
    "print(dimDict)\n",
    "\n",
    "def extract_class(s):\n",
    "    return re.search('label(.+?).png', s).group(1)\n",
    "\n",
    "df['class'] = df['filename'].apply(extract_class)\n",
    "\n",
    "df.head()"
   ]
  },
  {
   "cell_type": "markdown",
   "id": "15bc0be2",
   "metadata": {},
   "source": [
    "It seems like everything is 64x64 and is a rank 2 tensor (grayscale)"
   ]
  },
  {
   "cell_type": "code",
   "execution_count": 3,
   "id": "05d3409d",
   "metadata": {},
   "outputs": [
    {
     "name": "stdout",
     "output_type": "stream",
     "text": [
      "classes range from 0 to 48\n"
     ]
    }
   ],
   "source": [
    "df['class'] = df['class'].astype(int)\n",
    "print(f'classes range from 0 to {df[\"class\"].nunique() - 1}')"
   ]
  },
  {
   "cell_type": "code",
   "execution_count": 4,
   "id": "bf4e212c",
   "metadata": {},
   "outputs": [],
   "source": [
    "from sklearn.model_selection import train_test_split\n",
    "\n",
    "X = df.drop('class', axis=1)\n",
    "y = df['class']\n",
    "\n",
    "train_X, val_X, train_y, val_y = train_test_split(X, y, test_size=0.25, random_state=42)\n",
    "\n",
    "train = pd.concat([train_X, train_y], axis=1)\n",
    "val = pd.concat([val_X, val_y], axis=1)"
   ]
  },
  {
   "cell_type": "markdown",
   "id": "e4abf5f3",
   "metadata": {},
   "source": [
    "# Quick EDA"
   ]
  },
  {
   "cell_type": "code",
   "execution_count": 5,
   "id": "28fa9046",
   "metadata": {},
   "outputs": [
    {
     "data": {
      "text/plain": [
       "(64, 64)"
      ]
     },
     "execution_count": 5,
     "metadata": {},
     "output_type": "execute_result"
    },
    {
     "data": {
      "image/png": "[encoded data removed]",
      "text/plain": [
       "<Figure size 432x288 with 1 Axes>"
      ]
     },
     "metadata": {
      "needs_background": "light"
     },
     "output_type": "display_data"
    }
   ],
   "source": [
    "# Sample\n",
    "plt.imshow(df['data'][0].reshape(64,64), cmap='gray')\n",
    "data.shape"
   ]
  },
  {
   "cell_type": "code",
   "execution_count": 6,
   "id": "aadd55d3",
   "metadata": {},
   "outputs": [
    {
     "data": {
      "text/plain": [
       "<AxesSubplot:xlabel='class', ylabel='count'>"
      ]
     },
     "execution_count": 6,
     "metadata": {},
     "output_type": "execute_result"
    },
    {
     "data": {
      "image/png": "[encoded data removed]",
      "text/plain": [
       "<Figure size 864x576 with 1 Axes>"
      ]
     },
     "metadata": {
      "needs_background": "light"
     },
     "output_type": "display_data"
    }
   ],
   "source": [
    "import seaborn as sns\n",
    "\n",
    "plt.figure(figsize=(12,8))\n",
    "sns.countplot(x='class', data=df, order=range(49))"
   ]
  },
  {
   "cell_type": "markdown",
   "id": "ea3117af",
   "metadata": {},
   "source": [
    "Unsure what each classes mean, but we can still continue to try CNN."
   ]
  },
  {
   "cell_type": "markdown",
   "id": "65f8d184",
   "metadata": {},
   "source": [
    "# Create Directories for PyTorch ImageFolder"
   ]
  },
  {
   "cell_type": "code",
   "execution_count": 7,
   "id": "3a84d095",
   "metadata": {},
   "outputs": [],
   "source": [
    "# make folder for validation set\n",
    "root_path = '../DL Face Recognition'\n",
    "dr = 'DL_track_val'\n",
    "path = os.path.join(root_path, dr)\n",
    "os.mkdir(path)"
   ]
  },
  {
   "cell_type": "code",
   "execution_count": 8,
   "id": "a5b08d12",
   "metadata": {},
   "outputs": [],
   "source": [
    "# make classes dir for train and val\n",
    "\n",
    "classes = np.arange(49).astype(str)\n",
    "train_path = '../DL Face Recognition/DL_track_train'\n",
    "val_path = '../DL Face Recognition/DL_track_val'\n",
    "\n",
    "for cl in classes:\n",
    "    path = os.path.join(train_path, cl)\n",
    "    os.mkdir(path)\n",
    "    \n",
    "    path = os.path.join(val_path, cl)\n",
    "    os.mkdir(path)"
   ]
  },
  {
   "cell_type": "code",
   "execution_count": 9,
   "id": "a9e98a56",
   "metadata": {},
   "outputs": [],
   "source": [
    "# move files into respective folders\n",
    "import shutil\n",
    "\n",
    "train['class'] = train['class'].astype(str)\n",
    "val['class'] = val['class'].astype(str)\n",
    "\n",
    "for train_file in train['filename']:\n",
    "    shutil.move(train_file, train_path+'/'+train.loc[train['filename']==train_file, 'class'].iloc[0])\n",
    "    \n",
    "for val_file in val['filename']:\n",
    "    shutil.move(val_file, val_path+'/'+val.loc[val['filename']==val_file, 'class'].iloc[0])"
   ]
  },
  {
   "cell_type": "code",
   "execution_count": 10,
   "id": "74d11042",
   "metadata": {},
   "outputs": [],
   "source": []
  }
 ],
 "metadata": {
  "kernelspec": {
   "display_name": "Python 3 (ipykernel)",
   "language": "python",
   "name": "python3"
  },
  "language_info": {
   "codemirror_mode": {
    "name": "ipython",
    "version": 3
   },
   "file_extension": ".py",
   "mimetype": "text/x-python",
   "name": "python",
   "nbconvert_exporter": "python",
   "pygments_lexer": "ipython3",
   "version": "3.9.12"
  }
 },
 "nbformat": 4,
 "nbformat_minor": 5
}
